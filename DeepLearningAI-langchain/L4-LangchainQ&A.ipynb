{
 "cells": [
  {
   "attachments": {},
   "cell_type": "markdown",
   "metadata": {},
   "source": [
    "### Langchain: Q & A Over Documents \n",
    "\n",
    "Example tool to query product catalog.\n",
    "\n"
   ]
  },
  {
   "cell_type": "code",
   "execution_count": 26,
   "metadata": {},
   "outputs": [],
   "source": [
    "# !pip install --upgrade langchain\n",
    "# !pip install --upgrade bs4"
   ]
  },
  {
   "cell_type": "code",
   "execution_count": 27,
   "metadata": {},
   "outputs": [],
   "source": [
    "import os\n",
    "\n",
    "from dotenv import load_dotenv, find_dotenv\n",
    "_ = load_dotenv(find_dotenv()) # read local .env file"
   ]
  },
  {
   "cell_type": "code",
   "execution_count": 43,
   "metadata": {},
   "outputs": [],
   "source": [
    "\n",
    "from langchain.chains import RetrievalQA\n",
    "from langchain.chat_models import ChatOpenAI\n",
    "from langchain.document_loaders import CSVLoader\n",
    "from langchain.vectorstores import DocArrayInMemorySearch\n",
    "from IPython.display import display, Markdown\n",
    "import langchain\n",
    "langchain.verbose = False\n"
   ]
  },
  {
   "cell_type": "code",
   "execution_count": 47,
   "metadata": {},
   "outputs": [],
   "source": [
    "file = 'OutdoorClothingCatalog_1000.csv'\n",
    "loader = CSVLoader(file_path=file)"
   ]
  },
  {
   "cell_type": "code",
   "execution_count": 48,
   "metadata": {},
   "outputs": [],
   "source": [
    "from langchain.indexes import VectorstoreIndexCreator"
   ]
  },
  {
   "cell_type": "code",
   "execution_count": 49,
   "metadata": {},
   "outputs": [],
   "source": [
    "# !pip install docarray"
   ]
  },
  {
   "cell_type": "code",
   "execution_count": 50,
   "metadata": {},
   "outputs": [
    {
     "ename": "UnicodeDecodeError",
     "evalue": "'charmap' codec can't decode byte 0x9d in position 4774: character maps to <undefined>",
     "output_type": "error",
     "traceback": [
      "\u001b[1;31m---------------------------------------------------------------------------\u001b[0m",
      "\u001b[1;31mUnicodeDecodeError\u001b[0m                        Traceback (most recent call last)",
      "Cell \u001b[1;32mIn[50], line 3\u001b[0m\n\u001b[0;32m      1\u001b[0m index \u001b[39m=\u001b[39m VectorstoreIndexCreator(\n\u001b[0;32m      2\u001b[0m     vectorstore_cls\u001b[39m=\u001b[39;49mDocArrayInMemorySearch\n\u001b[1;32m----> 3\u001b[0m )\u001b[39m.\u001b[39;49mfrom_loaders([loader])\n",
      "File \u001b[1;32mc:\\Users\\pchri\\Documents\\LearningStuff\\Langchain\\venv\\Lib\\site-packages\\langchain\\indexes\\vectorstore.py:72\u001b[0m, in \u001b[0;36mVectorstoreIndexCreator.from_loaders\u001b[1;34m(self, loaders)\u001b[0m\n\u001b[0;32m     70\u001b[0m docs \u001b[39m=\u001b[39m []\n\u001b[0;32m     71\u001b[0m \u001b[39mfor\u001b[39;00m loader \u001b[39min\u001b[39;00m loaders:\n\u001b[1;32m---> 72\u001b[0m     docs\u001b[39m.\u001b[39mextend(loader\u001b[39m.\u001b[39;49mload())\n\u001b[0;32m     73\u001b[0m \u001b[39mreturn\u001b[39;00m \u001b[39mself\u001b[39m\u001b[39m.\u001b[39mfrom_documents(docs)\n",
      "File \u001b[1;32mc:\\Users\\pchri\\Documents\\LearningStuff\\Langchain\\venv\\Lib\\site-packages\\langchain\\document_loaders\\csv_loader.py:51\u001b[0m, in \u001b[0;36mCSVLoader.load\u001b[1;34m(self)\u001b[0m\n\u001b[0;32m     49\u001b[0m \u001b[39mwith\u001b[39;00m \u001b[39mopen\u001b[39m(\u001b[39mself\u001b[39m\u001b[39m.\u001b[39mfile_path, newline\u001b[39m=\u001b[39m\u001b[39m\"\u001b[39m\u001b[39m\"\u001b[39m, encoding\u001b[39m=\u001b[39m\u001b[39mself\u001b[39m\u001b[39m.\u001b[39mencoding) \u001b[39mas\u001b[39;00m csvfile:\n\u001b[0;32m     50\u001b[0m     csv_reader \u001b[39m=\u001b[39m csv\u001b[39m.\u001b[39mDictReader(csvfile, \u001b[39m*\u001b[39m\u001b[39m*\u001b[39m\u001b[39mself\u001b[39m\u001b[39m.\u001b[39mcsv_args)  \u001b[39m# type: ignore\u001b[39;00m\n\u001b[1;32m---> 51\u001b[0m     \u001b[39mfor\u001b[39;00m i, row \u001b[39min\u001b[39;00m \u001b[39menumerate\u001b[39m(csv_reader):\n\u001b[0;32m     52\u001b[0m         content \u001b[39m=\u001b[39m \u001b[39m\"\u001b[39m\u001b[39m\\n\u001b[39;00m\u001b[39m\"\u001b[39m\u001b[39m.\u001b[39mjoin(\u001b[39mf\u001b[39m\u001b[39m\"\u001b[39m\u001b[39m{\u001b[39;00mk\u001b[39m.\u001b[39mstrip()\u001b[39m}\u001b[39;00m\u001b[39m: \u001b[39m\u001b[39m{\u001b[39;00mv\u001b[39m.\u001b[39mstrip()\u001b[39m}\u001b[39;00m\u001b[39m\"\u001b[39m \u001b[39mfor\u001b[39;00m k, v \u001b[39min\u001b[39;00m row\u001b[39m.\u001b[39mitems())\n\u001b[0;32m     53\u001b[0m         \u001b[39mtry\u001b[39;00m:\n",
      "File \u001b[1;32mC:\\Python311\\Lib\\csv.py:111\u001b[0m, in \u001b[0;36mDictReader.__next__\u001b[1;34m(self)\u001b[0m\n\u001b[0;32m    108\u001b[0m \u001b[39mif\u001b[39;00m \u001b[39mself\u001b[39m\u001b[39m.\u001b[39mline_num \u001b[39m==\u001b[39m \u001b[39m0\u001b[39m:\n\u001b[0;32m    109\u001b[0m     \u001b[39m# Used only for its side effect.\u001b[39;00m\n\u001b[0;32m    110\u001b[0m     \u001b[39mself\u001b[39m\u001b[39m.\u001b[39mfieldnames\n\u001b[1;32m--> 111\u001b[0m row \u001b[39m=\u001b[39m \u001b[39mnext\u001b[39m(\u001b[39mself\u001b[39m\u001b[39m.\u001b[39mreader)\n\u001b[0;32m    112\u001b[0m \u001b[39mself\u001b[39m\u001b[39m.\u001b[39mline_num \u001b[39m=\u001b[39m \u001b[39mself\u001b[39m\u001b[39m.\u001b[39mreader\u001b[39m.\u001b[39mline_num\n\u001b[0;32m    114\u001b[0m \u001b[39m# unlike the basic reader, we prefer not to return blanks,\u001b[39;00m\n\u001b[0;32m    115\u001b[0m \u001b[39m# because we will typically wind up with a dict full of None\u001b[39;00m\n\u001b[0;32m    116\u001b[0m \u001b[39m# values\u001b[39;00m\n",
      "File \u001b[1;32mC:\\Python311\\Lib\\encodings\\cp1252.py:23\u001b[0m, in \u001b[0;36mIncrementalDecoder.decode\u001b[1;34m(self, input, final)\u001b[0m\n\u001b[0;32m     22\u001b[0m \u001b[39mdef\u001b[39;00m \u001b[39mdecode\u001b[39m(\u001b[39mself\u001b[39m, \u001b[39minput\u001b[39m, final\u001b[39m=\u001b[39m\u001b[39mFalse\u001b[39;00m):\n\u001b[1;32m---> 23\u001b[0m     \u001b[39mreturn\u001b[39;00m codecs\u001b[39m.\u001b[39mcharmap_decode(\u001b[39minput\u001b[39m,\u001b[39mself\u001b[39m\u001b[39m.\u001b[39merrors,decoding_table)[\u001b[39m0\u001b[39m]\n",
      "\u001b[1;31mUnicodeDecodeError\u001b[0m: 'charmap' codec can't decode byte 0x9d in position 4774: character maps to <undefined>"
     ]
    }
   ],
   "source": [
    "index = VectorstoreIndexCreator(\n",
    "    vectorstore_cls=DocArrayInMemorySearch\n",
    ").from_loaders([loader])"
   ]
  },
  {
   "cell_type": "code",
   "execution_count": null,
   "metadata": {},
   "outputs": [],
   "source": [
    "query =\"Please list all your shirts with sun protection \\\n",
    "in a table in markdown and summarize each one.\""
   ]
  },
  {
   "cell_type": "code",
   "execution_count": 72,
   "metadata": {},
   "outputs": [
    {
     "ename": "AttributeError",
     "evalue": "module 'langchain' has no attribute 'verbose'",
     "output_type": "error",
     "traceback": [
      "\u001b[1;31m---------------------------------------------------------------------------\u001b[0m",
      "\u001b[1;31mAttributeError\u001b[0m                            Traceback (most recent call last)",
      "Cell \u001b[1;32mIn[72], line 1\u001b[0m\n\u001b[1;32m----> 1\u001b[0m response \u001b[39m=\u001b[39m index\u001b[39m.\u001b[39;49mquery(query)\n",
      "File \u001b[1;32mc:\\Users\\pchri\\Documents\\LearningStuff\\Langchain\\venv\\Lib\\site-packages\\langchain\\indexes\\vectorstore.py:37\u001b[0m, in \u001b[0;36mVectorStoreIndexWrapper.query\u001b[1;34m(self, question, llm, **kwargs)\u001b[0m\n\u001b[0;32m     33\u001b[0m \u001b[39mdef\u001b[39;00m \u001b[39mquery\u001b[39m(\n\u001b[0;32m     34\u001b[0m     \u001b[39mself\u001b[39m, question: \u001b[39mstr\u001b[39m, llm: Optional[BaseLanguageModel] \u001b[39m=\u001b[39m \u001b[39mNone\u001b[39;00m, \u001b[39m*\u001b[39m\u001b[39m*\u001b[39mkwargs: Any\n\u001b[0;32m     35\u001b[0m ) \u001b[39m-\u001b[39m\u001b[39m>\u001b[39m \u001b[39mstr\u001b[39m:\n\u001b[0;32m     36\u001b[0m \u001b[39m    \u001b[39m\u001b[39m\"\"\"Query the vectorstore.\"\"\"\u001b[39;00m\n\u001b[1;32m---> 37\u001b[0m     llm \u001b[39m=\u001b[39m llm \u001b[39mor\u001b[39;00m OpenAI(temperature\u001b[39m=\u001b[39;49m\u001b[39m0\u001b[39;49m)\n\u001b[0;32m     38\u001b[0m     chain \u001b[39m=\u001b[39m RetrievalQA\u001b[39m.\u001b[39mfrom_chain_type(\n\u001b[0;32m     39\u001b[0m         llm, retriever\u001b[39m=\u001b[39m\u001b[39mself\u001b[39m\u001b[39m.\u001b[39mvectorstore\u001b[39m.\u001b[39mas_retriever(), \u001b[39m*\u001b[39m\u001b[39m*\u001b[39mkwargs\n\u001b[0;32m     40\u001b[0m     )\n\u001b[0;32m     41\u001b[0m     \u001b[39mreturn\u001b[39;00m chain\u001b[39m.\u001b[39mrun(question)\n",
      "File \u001b[1;32mc:\\Users\\pchri\\Documents\\LearningStuff\\Langchain\\venv\\Lib\\site-packages\\langchain\\load\\serializable.py:64\u001b[0m, in \u001b[0;36mSerializable.__init__\u001b[1;34m(self, **kwargs)\u001b[0m\n\u001b[0;32m     63\u001b[0m \u001b[39mdef\u001b[39;00m \u001b[39m__init__\u001b[39m(\u001b[39mself\u001b[39m, \u001b[39m*\u001b[39m\u001b[39m*\u001b[39mkwargs: Any) \u001b[39m-\u001b[39m\u001b[39m>\u001b[39m \u001b[39mNone\u001b[39;00m:\n\u001b[1;32m---> 64\u001b[0m     \u001b[39msuper\u001b[39;49m()\u001b[39m.\u001b[39;49m\u001b[39m__init__\u001b[39;49m(\u001b[39m*\u001b[39;49m\u001b[39m*\u001b[39;49mkwargs)\n\u001b[0;32m     65\u001b[0m     \u001b[39mself\u001b[39m\u001b[39m.\u001b[39m_lc_kwargs \u001b[39m=\u001b[39m kwargs\n",
      "File \u001b[1;32mc:\\Users\\pchri\\Documents\\LearningStuff\\Langchain\\venv\\Lib\\site-packages\\pydantic\\main.py:339\u001b[0m, in \u001b[0;36mpydantic.main.BaseModel.__init__\u001b[1;34m()\u001b[0m\n",
      "File \u001b[1;32mc:\\Users\\pchri\\Documents\\LearningStuff\\Langchain\\venv\\Lib\\site-packages\\pydantic\\main.py:1066\u001b[0m, in \u001b[0;36mpydantic.main.validate_model\u001b[1;34m()\u001b[0m\n",
      "File \u001b[1;32mc:\\Users\\pchri\\Documents\\LearningStuff\\Langchain\\venv\\Lib\\site-packages\\pydantic\\fields.py:439\u001b[0m, in \u001b[0;36mpydantic.fields.ModelField.get_default\u001b[1;34m()\u001b[0m\n",
      "File \u001b[1;32mc:\\Users\\pchri\\Documents\\LearningStuff\\Langchain\\venv\\Lib\\site-packages\\langchain\\llms\\base.py:35\u001b[0m, in \u001b[0;36m_get_verbosity\u001b[1;34m()\u001b[0m\n\u001b[0;32m     34\u001b[0m \u001b[39mdef\u001b[39;00m \u001b[39m_get_verbosity\u001b[39m() \u001b[39m-\u001b[39m\u001b[39m>\u001b[39m \u001b[39mbool\u001b[39m:\n\u001b[1;32m---> 35\u001b[0m     \u001b[39mreturn\u001b[39;00m langchain\u001b[39m.\u001b[39;49mverbose\n",
      "\u001b[1;31mAttributeError\u001b[0m: module 'langchain' has no attribute 'verbose'"
     ]
    }
   ],
   "source": [
    "response = index.query(query)"
   ]
  },
  {
   "cell_type": "code",
   "execution_count": 73,
   "metadata": {},
   "outputs": [
    {
     "ename": "NameError",
     "evalue": "name 'response' is not defined",
     "output_type": "error",
     "traceback": [
      "\u001b[1;31m---------------------------------------------------------------------------\u001b[0m",
      "\u001b[1;31mNameError\u001b[0m                                 Traceback (most recent call last)",
      "Cell \u001b[1;32mIn[73], line 1\u001b[0m\n\u001b[1;32m----> 1\u001b[0m display(Markdown(response))\n",
      "\u001b[1;31mNameError\u001b[0m: name 'response' is not defined"
     ]
    }
   ],
   "source": [
    "display(Markdown(response))"
   ]
  },
  {
   "cell_type": "code",
   "execution_count": 74,
   "metadata": {},
   "outputs": [],
   "source": [
    "loader = CSVLoader(file_path=file, encoding='utf-8')"
   ]
  },
  {
   "cell_type": "code",
   "execution_count": 75,
   "metadata": {},
   "outputs": [],
   "source": [
    "docs = loader.load()"
   ]
  },
  {
   "cell_type": "code",
   "execution_count": 76,
   "metadata": {},
   "outputs": [
    {
     "data": {
      "text/plain": [
       "Document(page_content=\": 0\\nname: Women's Campside Oxfords\\ndescription: This ultracomfortable lace-to-toe Oxford boasts a super-soft canvas, thick cushioning, and quality construction for a broken-in feel from the first time you put them on. \\r\\n\\r\\nSize & Fit: Order regular shoe size. For half sizes not offered, order up to next whole size. \\r\\n\\r\\nSpecs: Approx. weight: 1 lb.1 oz. per pair. \\r\\n\\r\\nConstruction: Soft canvas material for a broken-in feel and look. Comfortable EVA innersole with Cleansport NXT® antimicrobial odor control. Vintage hunt, fish and camping motif on innersole. Moderate arch contour of innersole. EVA foam midsole for cushioning and support. Chain-tread-inspired molded rubber outsole with modified chain-tread pattern. Imported. \\r\\n\\r\\nQuestions? Please contact us for any inquiries.\", metadata={'source': 'OutdoorClothingCatalog_1000.csv', 'row': 0})"
      ]
     },
     "execution_count": 76,
     "metadata": {},
     "output_type": "execute_result"
    }
   ],
   "source": [
    "docs[0]"
   ]
  },
  {
   "cell_type": "code",
   "execution_count": 77,
   "metadata": {},
   "outputs": [],
   "source": [
    "from langchain.embeddings import OpenAIEmbeddings\n",
    "embeddings = OpenAIEmbeddings()"
   ]
  },
  {
   "cell_type": "code",
   "execution_count": 78,
   "metadata": {},
   "outputs": [],
   "source": [
    "embed = embeddings.embed_query(\"Hi my name is Chris\")"
   ]
  },
  {
   "cell_type": "code",
   "execution_count": 79,
   "metadata": {},
   "outputs": [
    {
     "name": "stdout",
     "output_type": "stream",
     "text": [
      "1536\n"
     ]
    }
   ],
   "source": [
    "print(len(embed))"
   ]
  },
  {
   "cell_type": "code",
   "execution_count": 80,
   "metadata": {},
   "outputs": [
    {
     "name": "stdout",
     "output_type": "stream",
     "text": [
      "[-0.017098527401685715, 0.007435472682118416, -0.015752186998724937, -0.037868890911340714, -0.019558658823370934]\n"
     ]
    }
   ],
   "source": [
    "print(embed[:5])"
   ]
  },
  {
   "cell_type": "code",
   "execution_count": 81,
   "metadata": {},
   "outputs": [],
   "source": [
    "db = DocArrayInMemorySearch.from_documents(\n",
    "    docs, \n",
    "    embeddings\n",
    ")"
   ]
  },
  {
   "cell_type": "code",
   "execution_count": 82,
   "metadata": {},
   "outputs": [],
   "source": [
    "query = \"Please suggest a shirt with sunblocking\""
   ]
  },
  {
   "cell_type": "code",
   "execution_count": 83,
   "metadata": {},
   "outputs": [],
   "source": [
    "docs = db.similarity_search(query)"
   ]
  },
  {
   "cell_type": "code",
   "execution_count": 84,
   "metadata": {},
   "outputs": [
    {
     "data": {
      "text/plain": [
       "4"
      ]
     },
     "execution_count": 84,
     "metadata": {},
     "output_type": "execute_result"
    }
   ],
   "source": [
    "len(docs)"
   ]
  },
  {
   "cell_type": "code",
   "execution_count": 85,
   "metadata": {},
   "outputs": [
    {
     "data": {
      "text/plain": [
       "Document(page_content=': 255\\nname: Sun Shield Shirt by\\ndescription: \"Block the sun, not the fun – our high-performance sun shirt is guaranteed to protect from harmful UV rays. \\r\\n\\r\\nSize & Fit: Slightly Fitted: Softly shapes the body. Falls at hip.\\r\\n\\r\\nFabric & Care: 78% nylon, 22% Lycra Xtra Life fiber. UPF 50+ rated – the highest rated sun protection possible. Handwash, line dry.\\r\\n\\r\\nAdditional Features: Wicks moisture for quick-drying comfort. Fits comfortably over your favorite swimsuit. Abrasion resistant for season after season of wear. Imported.\\r\\n\\r\\nSun Protection That Won\\'t Wear Off\\r\\nOur high-performance fabric provides SPF 50+ sun protection, blocking 98% of the sun\\'s harmful rays. This fabric is recommended by The Skin Cancer Foundation as an effective UV protectant.', metadata={'source': 'OutdoorClothingCatalog_1000.csv', 'row': 255})"
      ]
     },
     "execution_count": 85,
     "metadata": {},
     "output_type": "execute_result"
    }
   ],
   "source": [
    "docs[0]"
   ]
  },
  {
   "cell_type": "code",
   "execution_count": 86,
   "metadata": {},
   "outputs": [],
   "source": [
    "retriever = db.as_retriever()"
   ]
  },
  {
   "cell_type": "code",
   "execution_count": 87,
   "metadata": {},
   "outputs": [],
   "source": [
    "llm = ChatOpenAI(temperature = 0.0)"
   ]
  },
  {
   "cell_type": "code",
   "execution_count": 88,
   "metadata": {},
   "outputs": [],
   "source": [
    "qdocs = \"\".join([docs[i].page_content for i in range(len(docs))])"
   ]
  },
  {
   "cell_type": "code",
   "execution_count": 89,
   "metadata": {},
   "outputs": [
    {
     "ename": "AttributeError",
     "evalue": "module 'langchain' has no attribute 'debug'",
     "output_type": "error",
     "traceback": [
      "\u001b[1;31m---------------------------------------------------------------------------\u001b[0m",
      "\u001b[1;31mAttributeError\u001b[0m                            Traceback (most recent call last)",
      "Cell \u001b[1;32mIn[89], line 1\u001b[0m\n\u001b[1;32m----> 1\u001b[0m response \u001b[39m=\u001b[39m llm\u001b[39m.\u001b[39;49mcall_as_llm(\u001b[39mf\u001b[39;49m\u001b[39m\"\u001b[39;49m\u001b[39m{\u001b[39;49;00mqdocs\u001b[39m}\u001b[39;49;00m\u001b[39m Question: Please list all your \u001b[39;49m\u001b[39m\\\u001b[39;49;00m\n\u001b[0;32m      2\u001b[0m \u001b[39mshirts with sun protection in a table in markdown and summarize each one.\u001b[39;49m\u001b[39m\"\u001b[39;49m)\n",
      "File \u001b[1;32mc:\\Users\\pchri\\Documents\\LearningStuff\\Langchain\\venv\\Lib\\site-packages\\langchain\\chat_models\\base.py:235\u001b[0m, in \u001b[0;36mBaseChatModel.call_as_llm\u001b[1;34m(self, message, stop, **kwargs)\u001b[0m\n\u001b[0;32m    232\u001b[0m \u001b[39mdef\u001b[39;00m \u001b[39mcall_as_llm\u001b[39m(\n\u001b[0;32m    233\u001b[0m     \u001b[39mself\u001b[39m, message: \u001b[39mstr\u001b[39m, stop: Optional[List[\u001b[39mstr\u001b[39m]] \u001b[39m=\u001b[39m \u001b[39mNone\u001b[39;00m, \u001b[39m*\u001b[39m\u001b[39m*\u001b[39mkwargs: Any\n\u001b[0;32m    234\u001b[0m ) \u001b[39m-\u001b[39m\u001b[39m>\u001b[39m \u001b[39mstr\u001b[39m:\n\u001b[1;32m--> 235\u001b[0m     \u001b[39mreturn\u001b[39;00m \u001b[39mself\u001b[39;49m\u001b[39m.\u001b[39;49mpredict(message, stop\u001b[39m=\u001b[39;49mstop, \u001b[39m*\u001b[39;49m\u001b[39m*\u001b[39;49mkwargs)\n",
      "File \u001b[1;32mc:\\Users\\pchri\\Documents\\LearningStuff\\Langchain\\venv\\Lib\\site-packages\\langchain\\chat_models\\base.py:244\u001b[0m, in \u001b[0;36mBaseChatModel.predict\u001b[1;34m(self, text, stop, **kwargs)\u001b[0m\n\u001b[0;32m    242\u001b[0m \u001b[39melse\u001b[39;00m:\n\u001b[0;32m    243\u001b[0m     _stop \u001b[39m=\u001b[39m \u001b[39mlist\u001b[39m(stop)\n\u001b[1;32m--> 244\u001b[0m result \u001b[39m=\u001b[39m \u001b[39mself\u001b[39;49m([HumanMessage(content\u001b[39m=\u001b[39;49mtext)], stop\u001b[39m=\u001b[39;49m_stop, \u001b[39m*\u001b[39;49m\u001b[39m*\u001b[39;49mkwargs)\n\u001b[0;32m    245\u001b[0m \u001b[39mreturn\u001b[39;00m result\u001b[39m.\u001b[39mcontent\n",
      "File \u001b[1;32mc:\\Users\\pchri\\Documents\\LearningStuff\\Langchain\\venv\\Lib\\site-packages\\langchain\\chat_models\\base.py:208\u001b[0m, in \u001b[0;36mBaseChatModel.__call__\u001b[1;34m(self, messages, stop, callbacks, **kwargs)\u001b[0m\n\u001b[0;32m    201\u001b[0m \u001b[39mdef\u001b[39;00m \u001b[39m__call__\u001b[39m(\n\u001b[0;32m    202\u001b[0m     \u001b[39mself\u001b[39m,\n\u001b[0;32m    203\u001b[0m     messages: List[BaseMessage],\n\u001b[1;32m   (...)\u001b[0m\n\u001b[0;32m    206\u001b[0m     \u001b[39m*\u001b[39m\u001b[39m*\u001b[39mkwargs: Any,\n\u001b[0;32m    207\u001b[0m ) \u001b[39m-\u001b[39m\u001b[39m>\u001b[39m BaseMessage:\n\u001b[1;32m--> 208\u001b[0m     generation \u001b[39m=\u001b[39m \u001b[39mself\u001b[39;49m\u001b[39m.\u001b[39;49mgenerate(\n\u001b[0;32m    209\u001b[0m         [messages], stop\u001b[39m=\u001b[39;49mstop, callbacks\u001b[39m=\u001b[39;49mcallbacks, \u001b[39m*\u001b[39;49m\u001b[39m*\u001b[39;49mkwargs\n\u001b[0;32m    210\u001b[0m     )\u001b[39m.\u001b[39mgenerations[\u001b[39m0\u001b[39m][\u001b[39m0\u001b[39m]\n\u001b[0;32m    211\u001b[0m     \u001b[39mif\u001b[39;00m \u001b[39misinstance\u001b[39m(generation, ChatGeneration):\n\u001b[0;32m    212\u001b[0m         \u001b[39mreturn\u001b[39;00m generation\u001b[39m.\u001b[39mmessage\n",
      "File \u001b[1;32mc:\\Users\\pchri\\Documents\\LearningStuff\\Langchain\\venv\\Lib\\site-packages\\langchain\\chat_models\\base.py:79\u001b[0m, in \u001b[0;36mBaseChatModel.generate\u001b[1;34m(self, messages, stop, callbacks, tags, **kwargs)\u001b[0m\n\u001b[0;32m     76\u001b[0m params[\u001b[39m\"\u001b[39m\u001b[39mstop\u001b[39m\u001b[39m\"\u001b[39m] \u001b[39m=\u001b[39m stop\n\u001b[0;32m     77\u001b[0m options \u001b[39m=\u001b[39m {\u001b[39m\"\u001b[39m\u001b[39mstop\u001b[39m\u001b[39m\"\u001b[39m: stop}\n\u001b[1;32m---> 79\u001b[0m callback_manager \u001b[39m=\u001b[39m CallbackManager\u001b[39m.\u001b[39;49mconfigure(\n\u001b[0;32m     80\u001b[0m     callbacks,\n\u001b[0;32m     81\u001b[0m     \u001b[39mself\u001b[39;49m\u001b[39m.\u001b[39;49mcallbacks,\n\u001b[0;32m     82\u001b[0m     \u001b[39mself\u001b[39;49m\u001b[39m.\u001b[39;49mverbose,\n\u001b[0;32m     83\u001b[0m     tags,\n\u001b[0;32m     84\u001b[0m     \u001b[39mself\u001b[39;49m\u001b[39m.\u001b[39;49mtags,\n\u001b[0;32m     85\u001b[0m )\n\u001b[0;32m     86\u001b[0m run_manager \u001b[39m=\u001b[39m callback_manager\u001b[39m.\u001b[39mon_chat_model_start(\n\u001b[0;32m     87\u001b[0m     dumpd(\u001b[39mself\u001b[39m), messages, invocation_params\u001b[39m=\u001b[39mparams, options\u001b[39m=\u001b[39moptions\n\u001b[0;32m     88\u001b[0m )\n\u001b[0;32m     90\u001b[0m new_arg_supported \u001b[39m=\u001b[39m inspect\u001b[39m.\u001b[39msignature(\u001b[39mself\u001b[39m\u001b[39m.\u001b[39m_generate)\u001b[39m.\u001b[39mparameters\u001b[39m.\u001b[39mget(\n\u001b[0;32m     91\u001b[0m     \u001b[39m\"\u001b[39m\u001b[39mrun_manager\u001b[39m\u001b[39m\"\u001b[39m\n\u001b[0;32m     92\u001b[0m )\n",
      "File \u001b[1;32mc:\\Users\\pchri\\Documents\\LearningStuff\\Langchain\\venv\\Lib\\site-packages\\langchain\\callbacks\\manager.py:811\u001b[0m, in \u001b[0;36mCallbackManager.configure\u001b[1;34m(cls, inheritable_callbacks, local_callbacks, verbose, inheritable_tags, local_tags)\u001b[0m\n\u001b[0;32m    801\u001b[0m \u001b[39m@classmethod\u001b[39m\n\u001b[0;32m    802\u001b[0m \u001b[39mdef\u001b[39;00m \u001b[39mconfigure\u001b[39m(\n\u001b[0;32m    803\u001b[0m     \u001b[39mcls\u001b[39m,\n\u001b[1;32m   (...)\u001b[0m\n\u001b[0;32m    808\u001b[0m     local_tags: Optional[List[\u001b[39mstr\u001b[39m]] \u001b[39m=\u001b[39m \u001b[39mNone\u001b[39;00m,\n\u001b[0;32m    809\u001b[0m ) \u001b[39m-\u001b[39m\u001b[39m>\u001b[39m CallbackManager:\n\u001b[0;32m    810\u001b[0m \u001b[39m    \u001b[39m\u001b[39m\"\"\"Configure the callback manager.\"\"\"\u001b[39;00m\n\u001b[1;32m--> 811\u001b[0m     \u001b[39mreturn\u001b[39;00m _configure(\n\u001b[0;32m    812\u001b[0m         \u001b[39mcls\u001b[39;49m,\n\u001b[0;32m    813\u001b[0m         inheritable_callbacks,\n\u001b[0;32m    814\u001b[0m         local_callbacks,\n\u001b[0;32m    815\u001b[0m         verbose,\n\u001b[0;32m    816\u001b[0m         inheritable_tags,\n\u001b[0;32m    817\u001b[0m         local_tags,\n\u001b[0;32m    818\u001b[0m     )\n",
      "File \u001b[1;32mc:\\Users\\pchri\\Documents\\LearningStuff\\Langchain\\venv\\Lib\\site-packages\\langchain\\callbacks\\manager.py:1045\u001b[0m, in \u001b[0;36m_configure\u001b[1;34m(callback_manager_cls, inheritable_callbacks, local_callbacks, verbose, inheritable_tags, local_tags)\u001b[0m\n\u001b[0;32m   1039\u001b[0m tracing_v2_enabled_ \u001b[39m=\u001b[39m (\n\u001b[0;32m   1040\u001b[0m     env_var_is_set(\u001b[39m\"\u001b[39m\u001b[39mLANGCHAIN_TRACING_V2\u001b[39m\u001b[39m\"\u001b[39m) \u001b[39mor\u001b[39;00m tracer_v2 \u001b[39mis\u001b[39;00m \u001b[39mnot\u001b[39;00m \u001b[39mNone\u001b[39;00m\n\u001b[0;32m   1041\u001b[0m )\n\u001b[0;32m   1042\u001b[0m tracer_project \u001b[39m=\u001b[39m os\u001b[39m.\u001b[39menviron\u001b[39m.\u001b[39mget(\n\u001b[0;32m   1043\u001b[0m     \u001b[39m\"\u001b[39m\u001b[39mLANGCHAIN_PROJECT\u001b[39m\u001b[39m\"\u001b[39m, os\u001b[39m.\u001b[39menviron\u001b[39m.\u001b[39mget(\u001b[39m\"\u001b[39m\u001b[39mLANGCHAIN_SESSION\u001b[39m\u001b[39m\"\u001b[39m, \u001b[39m\"\u001b[39m\u001b[39mdefault\u001b[39m\u001b[39m\"\u001b[39m)\n\u001b[0;32m   1044\u001b[0m )\n\u001b[1;32m-> 1045\u001b[0m debug \u001b[39m=\u001b[39m _get_debug()\n\u001b[0;32m   1046\u001b[0m \u001b[39mif\u001b[39;00m (\n\u001b[0;32m   1047\u001b[0m     verbose\n\u001b[0;32m   1048\u001b[0m     \u001b[39mor\u001b[39;00m debug\n\u001b[1;32m   (...)\u001b[0m\n\u001b[0;32m   1052\u001b[0m     \u001b[39mor\u001b[39;00m open_ai \u001b[39mis\u001b[39;00m \u001b[39mnot\u001b[39;00m \u001b[39mNone\u001b[39;00m\n\u001b[0;32m   1053\u001b[0m ):\n\u001b[0;32m   1054\u001b[0m     \u001b[39mif\u001b[39;00m verbose \u001b[39mand\u001b[39;00m \u001b[39mnot\u001b[39;00m \u001b[39many\u001b[39m(\n\u001b[0;32m   1055\u001b[0m         \u001b[39misinstance\u001b[39m(handler, StdOutCallbackHandler)\n\u001b[0;32m   1056\u001b[0m         \u001b[39mfor\u001b[39;00m handler \u001b[39min\u001b[39;00m callback_manager\u001b[39m.\u001b[39mhandlers\n\u001b[0;32m   1057\u001b[0m     ):\n",
      "File \u001b[1;32mc:\\Users\\pchri\\Documents\\LearningStuff\\Langchain\\venv\\Lib\\site-packages\\langchain\\callbacks\\manager.py:72\u001b[0m, in \u001b[0;36m_get_debug\u001b[1;34m()\u001b[0m\n\u001b[0;32m     71\u001b[0m \u001b[39mdef\u001b[39;00m \u001b[39m_get_debug\u001b[39m() \u001b[39m-\u001b[39m\u001b[39m>\u001b[39m \u001b[39mbool\u001b[39m:\n\u001b[1;32m---> 72\u001b[0m     \u001b[39mreturn\u001b[39;00m langchain\u001b[39m.\u001b[39;49mdebug\n",
      "\u001b[1;31mAttributeError\u001b[0m: module 'langchain' has no attribute 'debug'"
     ]
    }
   ],
   "source": [
    "response = llm.call_as_llm(f\"{qdocs} Question: Please list all your \\\n",
    "shirts with sun protection in a table in markdown and summarize each one.\")"
   ]
  },
  {
   "cell_type": "code",
   "execution_count": 90,
   "metadata": {},
   "outputs": [
    {
     "ename": "NameError",
     "evalue": "name 'response' is not defined",
     "output_type": "error",
     "traceback": [
      "\u001b[1;31m---------------------------------------------------------------------------\u001b[0m",
      "\u001b[1;31mNameError\u001b[0m                                 Traceback (most recent call last)",
      "Cell \u001b[1;32mIn[90], line 1\u001b[0m\n\u001b[1;32m----> 1\u001b[0m display(Markdown(response))\n",
      "\u001b[1;31mNameError\u001b[0m: name 'response' is not defined"
     ]
    }
   ],
   "source": [
    "display(Markdown(response))"
   ]
  },
  {
   "cell_type": "code",
   "execution_count": 91,
   "metadata": {},
   "outputs": [
    {
     "ename": "AttributeError",
     "evalue": "module 'langchain' has no attribute 'verbose'",
     "output_type": "error",
     "traceback": [
      "\u001b[1;31m---------------------------------------------------------------------------\u001b[0m",
      "\u001b[1;31mAttributeError\u001b[0m                            Traceback (most recent call last)",
      "Cell \u001b[1;32mIn[91], line 1\u001b[0m\n\u001b[1;32m----> 1\u001b[0m qa_stuff \u001b[39m=\u001b[39m RetrievalQA\u001b[39m.\u001b[39;49mfrom_chain_type(\n\u001b[0;32m      2\u001b[0m     llm\u001b[39m=\u001b[39;49mllm, \n\u001b[0;32m      3\u001b[0m     chain_type\u001b[39m=\u001b[39;49m\u001b[39m\"\u001b[39;49m\u001b[39mstuff\u001b[39;49m\u001b[39m\"\u001b[39;49m, \n\u001b[0;32m      4\u001b[0m     retriever\u001b[39m=\u001b[39;49mretriever, \n\u001b[0;32m      5\u001b[0m     verbose\u001b[39m=\u001b[39;49m\u001b[39mTrue\u001b[39;49;00m\n\u001b[0;32m      6\u001b[0m )\n",
      "File \u001b[1;32mc:\\Users\\pchri\\Documents\\LearningStuff\\Langchain\\venv\\Lib\\site-packages\\langchain\\chains\\retrieval_qa\\base.py:91\u001b[0m, in \u001b[0;36mBaseRetrievalQA.from_chain_type\u001b[1;34m(cls, llm, chain_type, chain_type_kwargs, **kwargs)\u001b[0m\n\u001b[0;32m     89\u001b[0m \u001b[39m\u001b[39m\u001b[39m\"\"\"Load chain from chain type.\"\"\"\u001b[39;00m\n\u001b[0;32m     90\u001b[0m _chain_type_kwargs \u001b[39m=\u001b[39m chain_type_kwargs \u001b[39mor\u001b[39;00m {}\n\u001b[1;32m---> 91\u001b[0m combine_documents_chain \u001b[39m=\u001b[39m load_qa_chain(\n\u001b[0;32m     92\u001b[0m     llm, chain_type\u001b[39m=\u001b[39;49mchain_type, \u001b[39m*\u001b[39;49m\u001b[39m*\u001b[39;49m_chain_type_kwargs\n\u001b[0;32m     93\u001b[0m )\n\u001b[0;32m     94\u001b[0m \u001b[39mreturn\u001b[39;00m \u001b[39mcls\u001b[39m(combine_documents_chain\u001b[39m=\u001b[39mcombine_documents_chain, \u001b[39m*\u001b[39m\u001b[39m*\u001b[39mkwargs)\n",
      "File \u001b[1;32mc:\\Users\\pchri\\Documents\\LearningStuff\\Langchain\\venv\\Lib\\site-packages\\langchain\\chains\\question_answering\\__init__.py:238\u001b[0m, in \u001b[0;36mload_qa_chain\u001b[1;34m(llm, chain_type, verbose, callback_manager, **kwargs)\u001b[0m\n\u001b[0;32m    233\u001b[0m \u001b[39mif\u001b[39;00m chain_type \u001b[39mnot\u001b[39;00m \u001b[39min\u001b[39;00m loader_mapping:\n\u001b[0;32m    234\u001b[0m     \u001b[39mraise\u001b[39;00m \u001b[39mValueError\u001b[39;00m(\n\u001b[0;32m    235\u001b[0m         \u001b[39mf\u001b[39m\u001b[39m\"\u001b[39m\u001b[39mGot unsupported chain type: \u001b[39m\u001b[39m{\u001b[39;00mchain_type\u001b[39m}\u001b[39;00m\u001b[39m. \u001b[39m\u001b[39m\"\u001b[39m\n\u001b[0;32m    236\u001b[0m         \u001b[39mf\u001b[39m\u001b[39m\"\u001b[39m\u001b[39mShould be one of \u001b[39m\u001b[39m{\u001b[39;00mloader_mapping\u001b[39m.\u001b[39mkeys()\u001b[39m}\u001b[39;00m\u001b[39m\"\u001b[39m\n\u001b[0;32m    237\u001b[0m     )\n\u001b[1;32m--> 238\u001b[0m \u001b[39mreturn\u001b[39;00m loader_mapping[chain_type](\n\u001b[0;32m    239\u001b[0m     llm, verbose\u001b[39m=\u001b[39;49mverbose, callback_manager\u001b[39m=\u001b[39;49mcallback_manager, \u001b[39m*\u001b[39;49m\u001b[39m*\u001b[39;49mkwargs\n\u001b[0;32m    240\u001b[0m )\n",
      "File \u001b[1;32mc:\\Users\\pchri\\Documents\\LearningStuff\\Langchain\\venv\\Lib\\site-packages\\langchain\\chains\\question_answering\\__init__.py:70\u001b[0m, in \u001b[0;36m_load_stuff_chain\u001b[1;34m(llm, prompt, document_variable_name, verbose, callback_manager, callbacks, **kwargs)\u001b[0m\n\u001b[0;32m     60\u001b[0m \u001b[39mdef\u001b[39;00m \u001b[39m_load_stuff_chain\u001b[39m(\n\u001b[0;32m     61\u001b[0m     llm: BaseLanguageModel,\n\u001b[0;32m     62\u001b[0m     prompt: Optional[BasePromptTemplate] \u001b[39m=\u001b[39m \u001b[39mNone\u001b[39;00m,\n\u001b[1;32m   (...)\u001b[0m\n\u001b[0;32m     67\u001b[0m     \u001b[39m*\u001b[39m\u001b[39m*\u001b[39mkwargs: Any,\n\u001b[0;32m     68\u001b[0m ) \u001b[39m-\u001b[39m\u001b[39m>\u001b[39m StuffDocumentsChain:\n\u001b[0;32m     69\u001b[0m     _prompt \u001b[39m=\u001b[39m prompt \u001b[39mor\u001b[39;00m stuff_prompt\u001b[39m.\u001b[39mPROMPT_SELECTOR\u001b[39m.\u001b[39mget_prompt(llm)\n\u001b[1;32m---> 70\u001b[0m     llm_chain \u001b[39m=\u001b[39m LLMChain(\n\u001b[0;32m     71\u001b[0m         llm\u001b[39m=\u001b[39;49mllm,\n\u001b[0;32m     72\u001b[0m         prompt\u001b[39m=\u001b[39;49m_prompt,\n\u001b[0;32m     73\u001b[0m         verbose\u001b[39m=\u001b[39;49mverbose,\n\u001b[0;32m     74\u001b[0m         callback_manager\u001b[39m=\u001b[39;49mcallback_manager,\n\u001b[0;32m     75\u001b[0m         callbacks\u001b[39m=\u001b[39;49mcallbacks,\n\u001b[0;32m     76\u001b[0m     )\n\u001b[0;32m     77\u001b[0m     \u001b[39m# TODO: document prompt\u001b[39;00m\n\u001b[0;32m     78\u001b[0m     \u001b[39mreturn\u001b[39;00m StuffDocumentsChain(\n\u001b[0;32m     79\u001b[0m         llm_chain\u001b[39m=\u001b[39mllm_chain,\n\u001b[0;32m     80\u001b[0m         document_variable_name\u001b[39m=\u001b[39mdocument_variable_name,\n\u001b[1;32m   (...)\u001b[0m\n\u001b[0;32m     83\u001b[0m         \u001b[39m*\u001b[39m\u001b[39m*\u001b[39mkwargs,\n\u001b[0;32m     84\u001b[0m     )\n",
      "File \u001b[1;32mc:\\Users\\pchri\\Documents\\LearningStuff\\Langchain\\venv\\Lib\\site-packages\\langchain\\load\\serializable.py:64\u001b[0m, in \u001b[0;36mSerializable.__init__\u001b[1;34m(self, **kwargs)\u001b[0m\n\u001b[0;32m     63\u001b[0m \u001b[39mdef\u001b[39;00m \u001b[39m__init__\u001b[39m(\u001b[39mself\u001b[39m, \u001b[39m*\u001b[39m\u001b[39m*\u001b[39mkwargs: Any) \u001b[39m-\u001b[39m\u001b[39m>\u001b[39m \u001b[39mNone\u001b[39;00m:\n\u001b[1;32m---> 64\u001b[0m     \u001b[39msuper\u001b[39;49m()\u001b[39m.\u001b[39;49m\u001b[39m__init__\u001b[39;49m(\u001b[39m*\u001b[39;49m\u001b[39m*\u001b[39;49mkwargs)\n\u001b[0;32m     65\u001b[0m     \u001b[39mself\u001b[39m\u001b[39m.\u001b[39m_lc_kwargs \u001b[39m=\u001b[39m kwargs\n",
      "File \u001b[1;32mc:\\Users\\pchri\\Documents\\LearningStuff\\Langchain\\venv\\Lib\\site-packages\\pydantic\\main.py:339\u001b[0m, in \u001b[0;36mpydantic.main.BaseModel.__init__\u001b[1;34m()\u001b[0m\n",
      "File \u001b[1;32mc:\\Users\\pchri\\Documents\\LearningStuff\\Langchain\\venv\\Lib\\site-packages\\pydantic\\main.py:1076\u001b[0m, in \u001b[0;36mpydantic.main.validate_model\u001b[1;34m()\u001b[0m\n",
      "File \u001b[1;32mc:\\Users\\pchri\\Documents\\LearningStuff\\Langchain\\venv\\Lib\\site-packages\\pydantic\\fields.py:867\u001b[0m, in \u001b[0;36mpydantic.fields.ModelField.validate\u001b[1;34m()\u001b[0m\n",
      "File \u001b[1;32mc:\\Users\\pchri\\Documents\\LearningStuff\\Langchain\\venv\\Lib\\site-packages\\pydantic\\fields.py:1157\u001b[0m, in \u001b[0;36mpydantic.fields.ModelField._apply_validators\u001b[1;34m()\u001b[0m\n",
      "File \u001b[1;32mc:\\Users\\pchri\\Documents\\LearningStuff\\Langchain\\venv\\Lib\\site-packages\\pydantic\\class_validators.py:304\u001b[0m, in \u001b[0;36mpydantic.class_validators._generic_validator_cls.lambda4\u001b[1;34m()\u001b[0m\n",
      "File \u001b[1;32mc:\\Users\\pchri\\Documents\\LearningStuff\\Langchain\\venv\\Lib\\site-packages\\langchain\\chains\\base.py:85\u001b[0m, in \u001b[0;36mChain.set_verbose\u001b[1;34m(cls, verbose)\u001b[0m\n\u001b[0;32m     80\u001b[0m \u001b[39m\u001b[39m\u001b[39m\"\"\"If verbose is None, set it.\u001b[39;00m\n\u001b[0;32m     81\u001b[0m \n\u001b[0;32m     82\u001b[0m \u001b[39mThis allows users to pass in None as verbose to access the global setting.\u001b[39;00m\n\u001b[0;32m     83\u001b[0m \u001b[39m\"\"\"\u001b[39;00m\n\u001b[0;32m     84\u001b[0m \u001b[39mif\u001b[39;00m verbose \u001b[39mis\u001b[39;00m \u001b[39mNone\u001b[39;00m:\n\u001b[1;32m---> 85\u001b[0m     \u001b[39mreturn\u001b[39;00m _get_verbosity()\n\u001b[0;32m     86\u001b[0m \u001b[39melse\u001b[39;00m:\n\u001b[0;32m     87\u001b[0m     \u001b[39mreturn\u001b[39;00m verbose\n",
      "File \u001b[1;32mc:\\Users\\pchri\\Documents\\LearningStuff\\Langchain\\venv\\Lib\\site-packages\\langchain\\chains\\base.py:27\u001b[0m, in \u001b[0;36m_get_verbosity\u001b[1;34m()\u001b[0m\n\u001b[0;32m     26\u001b[0m \u001b[39mdef\u001b[39;00m \u001b[39m_get_verbosity\u001b[39m() \u001b[39m-\u001b[39m\u001b[39m>\u001b[39m \u001b[39mbool\u001b[39m:\n\u001b[1;32m---> 27\u001b[0m     \u001b[39mreturn\u001b[39;00m langchain\u001b[39m.\u001b[39;49mverbose\n",
      "\u001b[1;31mAttributeError\u001b[0m: module 'langchain' has no attribute 'verbose'"
     ]
    }
   ],
   "source": [
    "qa_stuff = RetrievalQA.from_chain_type(\n",
    "    llm=llm, \n",
    "    chain_type=\"stuff\", \n",
    "    retriever=retriever, \n",
    "    verbose=True\n",
    ")"
   ]
  },
  {
   "cell_type": "code",
   "execution_count": 92,
   "metadata": {},
   "outputs": [],
   "source": [
    "query =  \"Please list all your shirts with sun protection in a table \\\n",
    "in markdown and summarize each one.\""
   ]
  },
  {
   "cell_type": "code",
   "execution_count": 93,
   "metadata": {},
   "outputs": [
    {
     "ename": "NameError",
     "evalue": "name 'qa_stuff' is not defined",
     "output_type": "error",
     "traceback": [
      "\u001b[1;31m---------------------------------------------------------------------------\u001b[0m",
      "\u001b[1;31mNameError\u001b[0m                                 Traceback (most recent call last)",
      "Cell \u001b[1;32mIn[93], line 1\u001b[0m\n\u001b[1;32m----> 1\u001b[0m response \u001b[39m=\u001b[39m qa_stuff\u001b[39m.\u001b[39mrun(query)\n",
      "\u001b[1;31mNameError\u001b[0m: name 'qa_stuff' is not defined"
     ]
    }
   ],
   "source": [
    "response = qa_stuff.run(query)"
   ]
  },
  {
   "cell_type": "code",
   "execution_count": 94,
   "metadata": {},
   "outputs": [
    {
     "ename": "NameError",
     "evalue": "name 'response' is not defined",
     "output_type": "error",
     "traceback": [
      "\u001b[1;31m---------------------------------------------------------------------------\u001b[0m",
      "\u001b[1;31mNameError\u001b[0m                                 Traceback (most recent call last)",
      "Cell \u001b[1;32mIn[94], line 1\u001b[0m\n\u001b[1;32m----> 1\u001b[0m display(Markdown(response))\n",
      "\u001b[1;31mNameError\u001b[0m: name 'response' is not defined"
     ]
    }
   ],
   "source": [
    "display(Markdown(response))"
   ]
  },
  {
   "cell_type": "code",
   "execution_count": 95,
   "metadata": {},
   "outputs": [
    {
     "ename": "AttributeError",
     "evalue": "module 'langchain' has no attribute 'verbose'",
     "output_type": "error",
     "traceback": [
      "\u001b[1;31m---------------------------------------------------------------------------\u001b[0m",
      "\u001b[1;31mAttributeError\u001b[0m                            Traceback (most recent call last)",
      "Cell \u001b[1;32mIn[95], line 1\u001b[0m\n\u001b[1;32m----> 1\u001b[0m response \u001b[39m=\u001b[39m index\u001b[39m.\u001b[39;49mquery(query, llm\u001b[39m=\u001b[39;49mllm)\n",
      "File \u001b[1;32mc:\\Users\\pchri\\Documents\\LearningStuff\\Langchain\\venv\\Lib\\site-packages\\langchain\\indexes\\vectorstore.py:38\u001b[0m, in \u001b[0;36mVectorStoreIndexWrapper.query\u001b[1;34m(self, question, llm, **kwargs)\u001b[0m\n\u001b[0;32m     36\u001b[0m \u001b[39m\u001b[39m\u001b[39m\"\"\"Query the vectorstore.\"\"\"\u001b[39;00m\n\u001b[0;32m     37\u001b[0m llm \u001b[39m=\u001b[39m llm \u001b[39mor\u001b[39;00m OpenAI(temperature\u001b[39m=\u001b[39m\u001b[39m0\u001b[39m)\n\u001b[1;32m---> 38\u001b[0m chain \u001b[39m=\u001b[39m RetrievalQA\u001b[39m.\u001b[39;49mfrom_chain_type(\n\u001b[0;32m     39\u001b[0m     llm, retriever\u001b[39m=\u001b[39;49m\u001b[39mself\u001b[39;49m\u001b[39m.\u001b[39;49mvectorstore\u001b[39m.\u001b[39;49mas_retriever(), \u001b[39m*\u001b[39;49m\u001b[39m*\u001b[39;49mkwargs\n\u001b[0;32m     40\u001b[0m )\n\u001b[0;32m     41\u001b[0m \u001b[39mreturn\u001b[39;00m chain\u001b[39m.\u001b[39mrun(question)\n",
      "File \u001b[1;32mc:\\Users\\pchri\\Documents\\LearningStuff\\Langchain\\venv\\Lib\\site-packages\\langchain\\chains\\retrieval_qa\\base.py:91\u001b[0m, in \u001b[0;36mBaseRetrievalQA.from_chain_type\u001b[1;34m(cls, llm, chain_type, chain_type_kwargs, **kwargs)\u001b[0m\n\u001b[0;32m     89\u001b[0m \u001b[39m\u001b[39m\u001b[39m\"\"\"Load chain from chain type.\"\"\"\u001b[39;00m\n\u001b[0;32m     90\u001b[0m _chain_type_kwargs \u001b[39m=\u001b[39m chain_type_kwargs \u001b[39mor\u001b[39;00m {}\n\u001b[1;32m---> 91\u001b[0m combine_documents_chain \u001b[39m=\u001b[39m load_qa_chain(\n\u001b[0;32m     92\u001b[0m     llm, chain_type\u001b[39m=\u001b[39;49mchain_type, \u001b[39m*\u001b[39;49m\u001b[39m*\u001b[39;49m_chain_type_kwargs\n\u001b[0;32m     93\u001b[0m )\n\u001b[0;32m     94\u001b[0m \u001b[39mreturn\u001b[39;00m \u001b[39mcls\u001b[39m(combine_documents_chain\u001b[39m=\u001b[39mcombine_documents_chain, \u001b[39m*\u001b[39m\u001b[39m*\u001b[39mkwargs)\n",
      "File \u001b[1;32mc:\\Users\\pchri\\Documents\\LearningStuff\\Langchain\\venv\\Lib\\site-packages\\langchain\\chains\\question_answering\\__init__.py:238\u001b[0m, in \u001b[0;36mload_qa_chain\u001b[1;34m(llm, chain_type, verbose, callback_manager, **kwargs)\u001b[0m\n\u001b[0;32m    233\u001b[0m \u001b[39mif\u001b[39;00m chain_type \u001b[39mnot\u001b[39;00m \u001b[39min\u001b[39;00m loader_mapping:\n\u001b[0;32m    234\u001b[0m     \u001b[39mraise\u001b[39;00m \u001b[39mValueError\u001b[39;00m(\n\u001b[0;32m    235\u001b[0m         \u001b[39mf\u001b[39m\u001b[39m\"\u001b[39m\u001b[39mGot unsupported chain type: \u001b[39m\u001b[39m{\u001b[39;00mchain_type\u001b[39m}\u001b[39;00m\u001b[39m. \u001b[39m\u001b[39m\"\u001b[39m\n\u001b[0;32m    236\u001b[0m         \u001b[39mf\u001b[39m\u001b[39m\"\u001b[39m\u001b[39mShould be one of \u001b[39m\u001b[39m{\u001b[39;00mloader_mapping\u001b[39m.\u001b[39mkeys()\u001b[39m}\u001b[39;00m\u001b[39m\"\u001b[39m\n\u001b[0;32m    237\u001b[0m     )\n\u001b[1;32m--> 238\u001b[0m \u001b[39mreturn\u001b[39;00m loader_mapping[chain_type](\n\u001b[0;32m    239\u001b[0m     llm, verbose\u001b[39m=\u001b[39;49mverbose, callback_manager\u001b[39m=\u001b[39;49mcallback_manager, \u001b[39m*\u001b[39;49m\u001b[39m*\u001b[39;49mkwargs\n\u001b[0;32m    240\u001b[0m )\n",
      "File \u001b[1;32mc:\\Users\\pchri\\Documents\\LearningStuff\\Langchain\\venv\\Lib\\site-packages\\langchain\\chains\\question_answering\\__init__.py:70\u001b[0m, in \u001b[0;36m_load_stuff_chain\u001b[1;34m(llm, prompt, document_variable_name, verbose, callback_manager, callbacks, **kwargs)\u001b[0m\n\u001b[0;32m     60\u001b[0m \u001b[39mdef\u001b[39;00m \u001b[39m_load_stuff_chain\u001b[39m(\n\u001b[0;32m     61\u001b[0m     llm: BaseLanguageModel,\n\u001b[0;32m     62\u001b[0m     prompt: Optional[BasePromptTemplate] \u001b[39m=\u001b[39m \u001b[39mNone\u001b[39;00m,\n\u001b[1;32m   (...)\u001b[0m\n\u001b[0;32m     67\u001b[0m     \u001b[39m*\u001b[39m\u001b[39m*\u001b[39mkwargs: Any,\n\u001b[0;32m     68\u001b[0m ) \u001b[39m-\u001b[39m\u001b[39m>\u001b[39m StuffDocumentsChain:\n\u001b[0;32m     69\u001b[0m     _prompt \u001b[39m=\u001b[39m prompt \u001b[39mor\u001b[39;00m stuff_prompt\u001b[39m.\u001b[39mPROMPT_SELECTOR\u001b[39m.\u001b[39mget_prompt(llm)\n\u001b[1;32m---> 70\u001b[0m     llm_chain \u001b[39m=\u001b[39m LLMChain(\n\u001b[0;32m     71\u001b[0m         llm\u001b[39m=\u001b[39;49mllm,\n\u001b[0;32m     72\u001b[0m         prompt\u001b[39m=\u001b[39;49m_prompt,\n\u001b[0;32m     73\u001b[0m         verbose\u001b[39m=\u001b[39;49mverbose,\n\u001b[0;32m     74\u001b[0m         callback_manager\u001b[39m=\u001b[39;49mcallback_manager,\n\u001b[0;32m     75\u001b[0m         callbacks\u001b[39m=\u001b[39;49mcallbacks,\n\u001b[0;32m     76\u001b[0m     )\n\u001b[0;32m     77\u001b[0m     \u001b[39m# TODO: document prompt\u001b[39;00m\n\u001b[0;32m     78\u001b[0m     \u001b[39mreturn\u001b[39;00m StuffDocumentsChain(\n\u001b[0;32m     79\u001b[0m         llm_chain\u001b[39m=\u001b[39mllm_chain,\n\u001b[0;32m     80\u001b[0m         document_variable_name\u001b[39m=\u001b[39mdocument_variable_name,\n\u001b[1;32m   (...)\u001b[0m\n\u001b[0;32m     83\u001b[0m         \u001b[39m*\u001b[39m\u001b[39m*\u001b[39mkwargs,\n\u001b[0;32m     84\u001b[0m     )\n",
      "File \u001b[1;32mc:\\Users\\pchri\\Documents\\LearningStuff\\Langchain\\venv\\Lib\\site-packages\\langchain\\load\\serializable.py:64\u001b[0m, in \u001b[0;36mSerializable.__init__\u001b[1;34m(self, **kwargs)\u001b[0m\n\u001b[0;32m     63\u001b[0m \u001b[39mdef\u001b[39;00m \u001b[39m__init__\u001b[39m(\u001b[39mself\u001b[39m, \u001b[39m*\u001b[39m\u001b[39m*\u001b[39mkwargs: Any) \u001b[39m-\u001b[39m\u001b[39m>\u001b[39m \u001b[39mNone\u001b[39;00m:\n\u001b[1;32m---> 64\u001b[0m     \u001b[39msuper\u001b[39;49m()\u001b[39m.\u001b[39;49m\u001b[39m__init__\u001b[39;49m(\u001b[39m*\u001b[39;49m\u001b[39m*\u001b[39;49mkwargs)\n\u001b[0;32m     65\u001b[0m     \u001b[39mself\u001b[39m\u001b[39m.\u001b[39m_lc_kwargs \u001b[39m=\u001b[39m kwargs\n",
      "File \u001b[1;32mc:\\Users\\pchri\\Documents\\LearningStuff\\Langchain\\venv\\Lib\\site-packages\\pydantic\\main.py:339\u001b[0m, in \u001b[0;36mpydantic.main.BaseModel.__init__\u001b[1;34m()\u001b[0m\n",
      "File \u001b[1;32mc:\\Users\\pchri\\Documents\\LearningStuff\\Langchain\\venv\\Lib\\site-packages\\pydantic\\main.py:1076\u001b[0m, in \u001b[0;36mpydantic.main.validate_model\u001b[1;34m()\u001b[0m\n",
      "File \u001b[1;32mc:\\Users\\pchri\\Documents\\LearningStuff\\Langchain\\venv\\Lib\\site-packages\\pydantic\\fields.py:867\u001b[0m, in \u001b[0;36mpydantic.fields.ModelField.validate\u001b[1;34m()\u001b[0m\n",
      "File \u001b[1;32mc:\\Users\\pchri\\Documents\\LearningStuff\\Langchain\\venv\\Lib\\site-packages\\pydantic\\fields.py:1157\u001b[0m, in \u001b[0;36mpydantic.fields.ModelField._apply_validators\u001b[1;34m()\u001b[0m\n",
      "File \u001b[1;32mc:\\Users\\pchri\\Documents\\LearningStuff\\Langchain\\venv\\Lib\\site-packages\\pydantic\\class_validators.py:304\u001b[0m, in \u001b[0;36mpydantic.class_validators._generic_validator_cls.lambda4\u001b[1;34m()\u001b[0m\n",
      "File \u001b[1;32mc:\\Users\\pchri\\Documents\\LearningStuff\\Langchain\\venv\\Lib\\site-packages\\langchain\\chains\\base.py:85\u001b[0m, in \u001b[0;36mChain.set_verbose\u001b[1;34m(cls, verbose)\u001b[0m\n\u001b[0;32m     80\u001b[0m \u001b[39m\u001b[39m\u001b[39m\"\"\"If verbose is None, set it.\u001b[39;00m\n\u001b[0;32m     81\u001b[0m \n\u001b[0;32m     82\u001b[0m \u001b[39mThis allows users to pass in None as verbose to access the global setting.\u001b[39;00m\n\u001b[0;32m     83\u001b[0m \u001b[39m\"\"\"\u001b[39;00m\n\u001b[0;32m     84\u001b[0m \u001b[39mif\u001b[39;00m verbose \u001b[39mis\u001b[39;00m \u001b[39mNone\u001b[39;00m:\n\u001b[1;32m---> 85\u001b[0m     \u001b[39mreturn\u001b[39;00m _get_verbosity()\n\u001b[0;32m     86\u001b[0m \u001b[39melse\u001b[39;00m:\n\u001b[0;32m     87\u001b[0m     \u001b[39mreturn\u001b[39;00m verbose\n",
      "File \u001b[1;32mc:\\Users\\pchri\\Documents\\LearningStuff\\Langchain\\venv\\Lib\\site-packages\\langchain\\chains\\base.py:27\u001b[0m, in \u001b[0;36m_get_verbosity\u001b[1;34m()\u001b[0m\n\u001b[0;32m     26\u001b[0m \u001b[39mdef\u001b[39;00m \u001b[39m_get_verbosity\u001b[39m() \u001b[39m-\u001b[39m\u001b[39m>\u001b[39m \u001b[39mbool\u001b[39m:\n\u001b[1;32m---> 27\u001b[0m     \u001b[39mreturn\u001b[39;00m langchain\u001b[39m.\u001b[39;49mverbose\n",
      "\u001b[1;31mAttributeError\u001b[0m: module 'langchain' has no attribute 'verbose'"
     ]
    }
   ],
   "source": [
    "response = index.query(query, llm=llm)"
   ]
  },
  {
   "cell_type": "code",
   "execution_count": 96,
   "metadata": {},
   "outputs": [],
   "source": [
    "index = VectorstoreIndexCreator(\n",
    "    vectorstore_cls=DocArrayInMemorySearch,\n",
    "    embedding=embeddings,\n",
    ").from_loaders([loader])"
   ]
  },
  {
   "cell_type": "code",
   "execution_count": null,
   "metadata": {},
   "outputs": [],
   "source": []
  },
  {
   "cell_type": "code",
   "execution_count": null,
   "metadata": {},
   "outputs": [],
   "source": []
  }
 ],
 "metadata": {
  "kernelspec": {
   "display_name": "venv",
   "language": "python",
   "name": "python3"
  },
  "language_info": {
   "codemirror_mode": {
    "name": "ipython",
    "version": 3
   },
   "file_extension": ".py",
   "mimetype": "text/x-python",
   "name": "python",
   "nbconvert_exporter": "python",
   "pygments_lexer": "ipython3",
   "version": "3.11.3"
  },
  "orig_nbformat": 4
 },
 "nbformat": 4,
 "nbformat_minor": 2
}
